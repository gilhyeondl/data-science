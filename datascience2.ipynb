{
  "nbformat": 4,
  "nbformat_minor": 0,
  "metadata": {
    "colab": {
      "name": "과제3주차4주차.ipynb",
      "provenance": []
    },
    "kernelspec": {
      "name": "python3",
      "display_name": "Python 3"
    },
    "language_info": {
      "name": "python"
    }
  },
  "cells": [
    {
      "cell_type": "markdown",
      "metadata": {
        "id": "TfF1v1hMgGjO"
      },
      "source": [
        "HOMEWORK 3주차 @@@@@@@@@"
      ]
    },
    {
      "cell_type": "code",
      "metadata": {
        "id": "adkO6sOLgKnW"
      },
      "source": [
        "%matplotlib inline\n",
        "import matplotlib.pyplot as plt\n",
        "plt.style.use('seaborn-whitegrid')\n",
        "import numpy as np\n",
        "import pandas as pd"
      ],
      "execution_count": 54,
      "outputs": []
    },
    {
      "cell_type": "code",
      "metadata": {
        "id": "0OktVH1KgNoC"
      },
      "source": [
        "rng=np.random.RandomState(0)\n",
        "years=rng.randint(1, 5, size=100)\n",
        "gender=['female']*50 + ['male']*50\n",
        "height=np.concatenate([rng.randn(50)*4+160, rng.randn(50)*7+170]) \n",
        "weight=np.concatenate([rng.randn(50)*4+60, rng.randn(50)*7+70]) "
      ],
      "execution_count": 55,
      "outputs": []
    },
    {
      "cell_type": "markdown",
      "metadata": {
        "id": "LUWmvXw0gPIo"
      },
      "source": [
        "문제1\n",
        "heigth(x축)와 weight(y축) 사이의 산점도를 그리시오.\n",
        "\n",
        "(단, marker는 'o' 사용)"
      ]
    },
    {
      "cell_type": "code",
      "metadata": {
        "colab": {
          "base_uri": "https://localhost:8080/",
          "height": 280
        },
        "id": "wspBAgm3gOQx",
        "outputId": "f5b7ebbc-a3d6-48ed-9ecc-b42ab69093d4"
      },
      "source": [
        "plt.scatter(height,weight,marker='o')"
      ],
      "execution_count": 56,
      "outputs": [
        {
          "output_type": "execute_result",
          "data": {
            "text/plain": [
              "<matplotlib.collections.PathCollection at 0x7fdccef72210>"
            ]
          },
          "metadata": {
            "tags": []
          },
          "execution_count": 56
        },
        {
          "output_type": "display_data",
          "data": {
            "image/png": "[encoded data removed]",
            "text/plain": [
              "<Figure size 432x288 with 1 Axes>"
            ]
          },
          "metadata": {
            "tags": []
          }
        }
      ]
    },
    {
      "cell_type": "markdown",
      "metadata": {
        "id": "elIziP8mhCp9"
      },
      "source": [
        "문제2\n",
        "처음 50명이 'female', 나머지 50명이 'male' 데이터이므로 이를 서로 다른 종류로 구분하여 산점도를 그리시오.\n",
        "\n",
        "단,\n",
        "\n",
        "legend를 오른쪽아래 테두리 있는 형태로 추가\n",
        "marker는 'o'(female), 's'(male) 사용\n",
        "x축과 y축 label을 'height', 'weight'로 표시"
      ]
    },
    {
      "cell_type": "code",
      "metadata": {
        "colab": {
          "base_uri": "https://localhost:8080/",
          "height": 296
        },
        "id": "zi52RxmkgivT",
        "outputId": "a658b7ea-21e3-4505-9877-243243a9e682"
      },
      "source": [
        "plt.plot(height[:50],weight[0:50],'o',label='female')\n",
        "plt.plot(height[50:],weight[50:],'s',label = 'male')\n",
        "plt.legend(loc='lower right',frameon=True)\n",
        "plt.xlabel('height')\n",
        "plt.ylabel('weight')"
      ],
      "execution_count": 57,
      "outputs": [
        {
          "output_type": "execute_result",
          "data": {
            "text/plain": [
              "Text(0, 0.5, 'weight')"
            ]
          },
          "metadata": {
            "tags": []
          },
          "execution_count": 57
        },
        {
          "output_type": "display_data",
          "data": {
            "image/png": "[encoded data removed]",
            "text/plain": [
              "<Figure size 432x288 with 1 Axes>"
            ]
          },
          "metadata": {
            "tags": []
          }
        }
      ]
    },
    {
      "cell_type": "markdown",
      "metadata": {
        "id": "EJ3npNunh2ch"
      },
      "source": [
        "문제3\n",
        "이번에는 years 변수 내용을 이용하여 학년별 산점도를 그리시오.\n",
        "\n",
        "단,\n",
        "\n",
        "legend를 왼쪽위 테두리 있는 형태로 추가하고 Year1, Year2, Year3, Year4로 label 부여\n",
        "marker는 'o'(Year1), 's'(Year2), 'd'(Year3), '+'(Year4) 사용\n",
        "x축과 y축 label을 'height', 'weight'로 표시"
      ]
    },
    {
      "cell_type": "code",
      "metadata": {
        "colab": {
          "base_uri": "https://localhost:8080/",
          "height": 296
        },
        "id": "O8vrQrxhh3ri",
        "outputId": "070e16b1-cd4a-4a37-d372-0cd8b234d0e6"
      },
      "source": [
        "markers=['o','s','d','+']\n",
        "for i in range(1,5):\n",
        "  plt.plot(height[years==i],weight[years==i],markers[i-1],label='Year'+str(i))\n",
        "plt.legend(loc='upper left',frameon=True)\n",
        "plt.xlabel('height')\n",
        "plt.ylabel('weight')"
      ],
      "execution_count": 58,
      "outputs": [
        {
          "output_type": "execute_result",
          "data": {
            "text/plain": [
              "Text(0, 0.5, 'weight')"
            ]
          },
          "metadata": {
            "tags": []
          },
          "execution_count": 58
        },
        {
          "output_type": "display_data",
          "data": {
            "image/png": "[encoded data removed]",
            "text/plain": [
              "<Figure size 432x288 with 1 Axes>"
            ]
          },
          "metadata": {
            "tags": []
          }
        }
      ]
    },
    {
      "cell_type": "markdown",
      "metadata": {
        "id": "mK_9qOEJjuaG"
      },
      "source": [
        "문제4\n",
        "학년별 height의 평균(mean)과 표준편차(std)를 이용하여 errorbar를 그리시오.\n",
        "\n",
        "단,\n",
        "\n",
        "errorbar 속성은 수업시간에 배운 fmt='-k' 사용\n",
        "x축과 y축 label을 'year', 'height'로 표시\n",
        "x축 범위는 0부터 5까지로 설정"
      ]
    },
    {
      "cell_type": "code",
      "metadata": {
        "colab": {
          "base_uri": "https://localhost:8080/",
          "height": 296
        },
        "id": "B1bvn2Djjtvc",
        "outputId": "e0bfd1bb-d720-4672-88a0-a5fd3834690e"
      },
      "source": [
        "df=pd.DataFrame({'years':years,'gender':gender,'height':height,'weight':weight})\n",
        "mean_hw = df.groupby('years').mean()\n",
        "std_hw=df.groupby('years').std()\n",
        "plt.errorbar(np.arange(1,5),mean_hw['height'],yerr=std_hw['height'],fmt='-k')\n",
        "plt.xlim(left=0,right=5)\n",
        "plt.xlabel('year')\n",
        "plt.ylabel('height')"
      ],
      "execution_count": 59,
      "outputs": [
        {
          "output_type": "execute_result",
          "data": {
            "text/plain": [
              "Text(0, 0.5, 'height')"
            ]
          },
          "metadata": {
            "tags": []
          },
          "execution_count": 59
        },
        {
          "output_type": "display_data",
          "data": {
            "image/png": "[encoded data removed]",
            "text/plain": [
              "<Figure size 432x288 with 1 Axes>"
            ]
          },
          "metadata": {
            "tags": []
          }
        }
      ]
    },
    {
      "cell_type": "markdown",
      "metadata": {
        "id": "ELoRIwHKmHYG"
      },
      "source": [
        "문제5\n",
        "학년별 height와 weight의 histogram을 다음 조건에 맞게 그리시오.\n",
        "\n",
        "4행 2열의 subplot을 생성하여 각 행은 year를 뜻하고, 1번 및 2번 열은 각각 height와 weight 결과를 뜻한다.\n",
        "모든 histogram에서 bin의 개수는 10이다.\n",
        "전체 그림의 크기는 [6.4, 6.4]이다.\n",
        "subplot 사이의 공백은 hspace=0.4, wspace=0.4이다."
      ]
    },
    {
      "cell_type": "code",
      "metadata": {
        "colab": {
          "base_uri": "https://localhost:8080/",
          "height": 393
        },
        "id": "NmvEGg1klbfe",
        "outputId": "14228f83-58ea-423d-adee-8acd1a33c995"
      },
      "source": [
        "plt.figure(figsize=[6.4,6.4])\n",
        "plt.subplots_adjust(hspace=0.4,wspace=0.4)\n",
        "for i in range(1,5):\n",
        "  plt.subplot(4,2,2*i-1)\n",
        "  d=height[years==i]\n",
        "  plt.hist(d,bins=10)\n",
        "\n",
        "  plt.subplot(4,2,2*i)\n",
        "  d=weight[years==i]\n",
        "  plt.hist(d,bins=10)"
      ],
      "execution_count": 60,
      "outputs": [
        {
          "output_type": "display_data",
          "data": {
            "image/png": "[encoded data removed]",
            "text/plain": [
              "<Figure size 460.8x460.8 with 8 Axes>"
            ]
          },
          "metadata": {
            "tags": []
          }
        }
      ]
    },
    {
      "cell_type": "markdown",
      "metadata": {
        "id": "j-U2I9CVnaFQ"
      },
      "source": [
        "HOMEWORK 4주차@@@@@@@@"
      ]
    },
    {
      "cell_type": "code",
      "metadata": {
        "id": "TUmeqKhWngWp"
      },
      "source": [
        "from datascience import *\n",
        "import matplotlib\n",
        "%matplotlib inline\n",
        "import matplotlib.pyplot as plots\n",
        "plots.style.use('fivethirtyeight')\n",
        "import numpy as np"
      ],
      "execution_count": 61,
      "outputs": []
    },
    {
      "cell_type": "code",
      "metadata": {
        "colab": {
          "base_uri": "https://localhost:8080/",
          "height": 377
        },
        "id": "6lPIkA-dnin8",
        "outputId": "88abb112-9965-43b2-cd56-74405bc0864f"
      },
      "source": [
        "nba = Table.read_table('https://raw.githubusercontent.com/data-8/materials-sp18/master/lec/nba_salaries.csv').relabeled(\"'15-'16 SALARY\", 'SALARY').sort(0)\n",
        "nba"
      ],
      "execution_count": 62,
      "outputs": [
        {
          "output_type": "execute_result",
          "data": {
            "text/html": [
              "<table border=\"1\" class=\"dataframe\">\n",
              "    <thead>\n",
              "        <tr>\n",
              "            <th>PLAYER</th> <th>POSITION</th> <th>TEAM</th> <th>SALARY</th>\n",
              "        </tr>\n",
              "    </thead>\n",
              "    <tbody>\n",
              "        <tr>\n",
              "            <td>Aaron Brooks   </td> <td>PG      </td> <td>Chicago Bulls         </td> <td>2.25    </td>\n",
              "        </tr>\n",
              "        <tr>\n",
              "            <td>Aaron Gordon   </td> <td>PF      </td> <td>Orlando Magic         </td> <td>4.17168 </td>\n",
              "        </tr>\n",
              "        <tr>\n",
              "            <td>Aaron Harrison </td> <td>SG      </td> <td>Charlotte Hornets     </td> <td>0.525093</td>\n",
              "        </tr>\n",
              "        <tr>\n",
              "            <td>Adreian Payne  </td> <td>PF      </td> <td>Minnesota Timberwolves</td> <td>1.93884 </td>\n",
              "        </tr>\n",
              "        <tr>\n",
              "            <td>Al Horford     </td> <td>C       </td> <td>Atlanta Hawks         </td> <td>12      </td>\n",
              "        </tr>\n",
              "        <tr>\n",
              "            <td>Al Jefferson   </td> <td>C       </td> <td>Charlotte Hornets     </td> <td>13.5    </td>\n",
              "        </tr>\n",
              "        <tr>\n",
              "            <td>Al-Farouq Aminu</td> <td>SF      </td> <td>Portland Trail Blazers</td> <td>8.04289 </td>\n",
              "        </tr>\n",
              "        <tr>\n",
              "            <td>Alan Anderson  </td> <td>SG      </td> <td>Washington Wizards    </td> <td>4       </td>\n",
              "        </tr>\n",
              "        <tr>\n",
              "            <td>Alec Burks     </td> <td>SG      </td> <td>Utah Jazz             </td> <td>9.46348 </td>\n",
              "        </tr>\n",
              "        <tr>\n",
              "            <td>Alex Len       </td> <td>C       </td> <td>Phoenix Suns          </td> <td>3.80712 </td>\n",
              "        </tr>\n",
              "    </tbody>\n",
              "</table>\n",
              "<p>... (407 rows omitted)</p>"
            ],
            "text/plain": [
              "PLAYER          | POSITION | TEAM                   | SALARY\n",
              "Aaron Brooks    | PG       | Chicago Bulls          | 2.25\n",
              "Aaron Gordon    | PF       | Orlando Magic          | 4.17168\n",
              "Aaron Harrison  | SG       | Charlotte Hornets      | 0.525093\n",
              "Adreian Payne   | PF       | Minnesota Timberwolves | 1.93884\n",
              "Al Horford      | C        | Atlanta Hawks          | 12\n",
              "Al Jefferson    | C        | Charlotte Hornets      | 13.5\n",
              "Al-Farouq Aminu | SF       | Portland Trail Blazers | 8.04289\n",
              "Alan Anderson   | SG       | Washington Wizards     | 4\n",
              "Alec Burks      | SG       | Utah Jazz              | 9.46348\n",
              "Alex Len        | C        | Phoenix Suns           | 3.80712\n",
              "... (407 rows omitted)"
            ]
          },
          "metadata": {
            "tags": []
          },
          "execution_count": 62
        }
      ]
    },
    {
      "cell_type": "markdown",
      "metadata": {
        "id": "bsDE5rG4nkRy"
      },
      "source": [
        "문제1\n",
        "POSITION이 'PG'이면서 연봉이 가장 높은 TOP-5 선수 정보를 PG_TOP5 이름의 Table 변수에 저장하시오."
      ]
    },
    {
      "cell_type": "code",
      "metadata": {
        "colab": {
          "base_uri": "https://localhost:8080/",
          "height": 198
        },
        "id": "jOLS7unInmJq",
        "outputId": "75fd951b-ac5f-44d5-fca1-23a9fee9242a"
      },
      "source": [
        "PG_TOP5=nba.where('POSITION','PG').sort('SALARY',descending=True).take(np.arange(5))\n",
        "PG_TOP5"
      ],
      "execution_count": 63,
      "outputs": [
        {
          "output_type": "execute_result",
          "data": {
            "text/html": [
              "<table border=\"1\" class=\"dataframe\">\n",
              "    <thead>\n",
              "        <tr>\n",
              "            <th>PLAYER</th> <th>POSITION</th> <th>TEAM</th> <th>SALARY</th>\n",
              "        </tr>\n",
              "    </thead>\n",
              "    <tbody>\n",
              "        <tr>\n",
              "            <td>Chris Paul       </td> <td>PG      </td> <td>Los Angeles Clippers </td> <td>21.4687</td>\n",
              "        </tr>\n",
              "        <tr>\n",
              "            <td>Derrick Rose     </td> <td>PG      </td> <td>Chicago Bulls        </td> <td>20.0931</td>\n",
              "        </tr>\n",
              "        <tr>\n",
              "            <td>Russell Westbrook</td> <td>PG      </td> <td>Oklahoma City Thunder</td> <td>16.7442</td>\n",
              "        </tr>\n",
              "        <tr>\n",
              "            <td>Kyrie Irving     </td> <td>PG      </td> <td>Cleveland Cavaliers  </td> <td>16.4075</td>\n",
              "        </tr>\n",
              "        <tr>\n",
              "            <td>John Wall        </td> <td>PG      </td> <td>Washington Wizards   </td> <td>15.852 </td>\n",
              "        </tr>\n",
              "    </tbody>\n",
              "</table>"
            ],
            "text/plain": [
              "PLAYER            | POSITION | TEAM                  | SALARY\n",
              "Chris Paul        | PG       | Los Angeles Clippers  | 21.4687\n",
              "Derrick Rose      | PG       | Chicago Bulls         | 20.0931\n",
              "Russell Westbrook | PG       | Oklahoma City Thunder | 16.7442\n",
              "Kyrie Irving      | PG       | Cleveland Cavaliers   | 16.4075\n",
              "John Wall         | PG       | Washington Wizards    | 15.852"
            ]
          },
          "metadata": {
            "tags": []
          },
          "execution_count": 63
        }
      ]
    },
    {
      "cell_type": "markdown",
      "metadata": {
        "id": "_V2WvsUIpTvy"
      },
      "source": [
        "문제2\n",
        "SALARY의 최대값과 최소값을 구하여 각각 max_salary, min_salary 변수에 저장하시오."
      ]
    },
    {
      "cell_type": "code",
      "metadata": {
        "colab": {
          "base_uri": "https://localhost:8080/"
        },
        "id": "z-BDnGL4pXPW",
        "outputId": "f6bce288-07ad-474b-f2c6-14df653cf63a"
      },
      "source": [
        "max_salary=nba.sort('SALARY',descending=True).column('SALARY')[0]\n",
        "min_salary=nba.sort('SALARY',descending=True).column('SALARY')[-1]\n",
        "max_salary,min_salary"
      ],
      "execution_count": 64,
      "outputs": [
        {
          "output_type": "execute_result",
          "data": {
            "text/plain": [
              "(25.0, 0.030888)"
            ]
          },
          "metadata": {
            "tags": []
          },
          "execution_count": 64
        }
      ]
    },
    {
      "cell_type": "markdown",
      "metadata": {
        "id": "Ecc6nWtzrR-0"
      },
      "source": [
        "문제3\n",
        "각 TEAM별 선수 수를 감소순으로 정렬하여 team_ct 이름의 Table 변수에 저장하시오."
      ]
    },
    {
      "cell_type": "code",
      "metadata": {
        "colab": {
          "base_uri": "https://localhost:8080/",
          "height": 377
        },
        "id": "YX9eh9cmrRMi",
        "outputId": "633be6a5-f370-4b8b-ec02-3df6c37b6ff3"
      },
      "source": [
        "team_ct=nba.group('TEAM').sort('count',descending=True)\n",
        "team_ct"
      ],
      "execution_count": 65,
      "outputs": [
        {
          "output_type": "execute_result",
          "data": {
            "text/html": [
              "<table border=\"1\" class=\"dataframe\">\n",
              "    <thead>\n",
              "        <tr>\n",
              "            <th>TEAM</th> <th>count</th>\n",
              "        </tr>\n",
              "    </thead>\n",
              "    <tbody>\n",
              "        <tr>\n",
              "            <td>Memphis Grizzlies     </td> <td>21   </td>\n",
              "        </tr>\n",
              "        <tr>\n",
              "            <td>Charlotte Hornets     </td> <td>18   </td>\n",
              "        </tr>\n",
              "        <tr>\n",
              "            <td>Washington Wizards    </td> <td>17   </td>\n",
              "        </tr>\n",
              "        <tr>\n",
              "            <td>Utah Jazz             </td> <td>17   </td>\n",
              "        </tr>\n",
              "        <tr>\n",
              "            <td>Toronto Raptors       </td> <td>17   </td>\n",
              "        </tr>\n",
              "        <tr>\n",
              "            <td>Phoenix Suns          </td> <td>17   </td>\n",
              "        </tr>\n",
              "        <tr>\n",
              "            <td>Oklahoma City Thunder </td> <td>16   </td>\n",
              "        </tr>\n",
              "        <tr>\n",
              "            <td>New Orleans Pelicans  </td> <td>16   </td>\n",
              "        </tr>\n",
              "        <tr>\n",
              "            <td>Boston Celtics        </td> <td>15   </td>\n",
              "        </tr>\n",
              "        <tr>\n",
              "            <td>Portland Trail Blazers</td> <td>14   </td>\n",
              "        </tr>\n",
              "    </tbody>\n",
              "</table>\n",
              "<p>... (20 rows omitted)</p>"
            ],
            "text/plain": [
              "TEAM                   | count\n",
              "Memphis Grizzlies      | 21\n",
              "Charlotte Hornets      | 18\n",
              "Washington Wizards     | 17\n",
              "Utah Jazz              | 17\n",
              "Toronto Raptors        | 17\n",
              "Phoenix Suns           | 17\n",
              "Oklahoma City Thunder  | 16\n",
              "New Orleans Pelicans   | 16\n",
              "Boston Celtics         | 15\n",
              "Portland Trail Blazers | 14\n",
              "... (20 rows omitted)"
            ]
          },
          "metadata": {
            "tags": []
          },
          "execution_count": 65
        }
      ]
    },
    {
      "cell_type": "markdown",
      "metadata": {
        "id": "bxCHmdjnr8Gu"
      },
      "source": [
        "문제4\n",
        "연봉이 가장 높은 200명 중 POSITION별 평균 연봉을 Table변수top200에 저장하시오."
      ]
    },
    {
      "cell_type": "code",
      "metadata": {
        "colab": {
          "base_uri": "https://localhost:8080/",
          "height": 198
        },
        "id": "KTcsu9oQr9VL",
        "outputId": "16cbfccb-03d4-47a1-d960-5d2d70410138"
      },
      "source": [
        "top200=nba.sort('SALARY',descending=True).take(np.arange(200)).select('POSITION','SALARY').group('POSITION',np.mean)\n",
        "top200"
      ],
      "execution_count": 66,
      "outputs": [
        {
          "output_type": "execute_result",
          "data": {
            "text/html": [
              "<table border=\"1\" class=\"dataframe\">\n",
              "    <thead>\n",
              "        <tr>\n",
              "            <th>POSITION</th> <th>SALARY mean</th>\n",
              "        </tr>\n",
              "    </thead>\n",
              "    <tbody>\n",
              "        <tr>\n",
              "            <td>C       </td> <td>9.07777    </td>\n",
              "        </tr>\n",
              "        <tr>\n",
              "            <td>PF      </td> <td>8.1689     </td>\n",
              "        </tr>\n",
              "        <tr>\n",
              "            <td>PG      </td> <td>9.12843    </td>\n",
              "        </tr>\n",
              "        <tr>\n",
              "            <td>SF      </td> <td>10.2884    </td>\n",
              "        </tr>\n",
              "        <tr>\n",
              "            <td>SG      </td> <td>8.10591    </td>\n",
              "        </tr>\n",
              "    </tbody>\n",
              "</table>"
            ],
            "text/plain": [
              "POSITION | SALARY mean\n",
              "C        | 9.07777\n",
              "PF       | 8.1689\n",
              "PG       | 9.12843\n",
              "SF       | 10.2884\n",
              "SG       | 8.10591"
            ]
          },
          "metadata": {
            "tags": []
          },
          "execution_count": 66
        }
      ]
    },
    {
      "cell_type": "markdown",
      "metadata": {
        "id": "8RIad0sAu6Xx"
      },
      "source": [
        "문제5\n",
        "위와 같은 식으로 연봉이 가장 높은 100명 중 POSITION별 평균 연봉을 Table변수 top100에 저장하시오"
      ]
    },
    {
      "cell_type": "code",
      "metadata": {
        "colab": {
          "base_uri": "https://localhost:8080/",
          "height": 198
        },
        "id": "kYdAZ_uMu8F6",
        "outputId": "9b8eefee-614f-4438-d9b9-788a45b851df"
      },
      "source": [
        "top100=nba.sort('SALARY',descending=True).take(np.arange(100)).select('POSITION','SALARY').group('POSITION',np.mean)\n",
        "top100"
      ],
      "execution_count": 67,
      "outputs": [
        {
          "output_type": "execute_result",
          "data": {
            "text/html": [
              "<table border=\"1\" class=\"dataframe\">\n",
              "    <thead>\n",
              "        <tr>\n",
              "            <th>POSITION</th> <th>SALARY mean</th>\n",
              "        </tr>\n",
              "    </thead>\n",
              "    <tbody>\n",
              "        <tr>\n",
              "            <td>C       </td> <td>12.8281    </td>\n",
              "        </tr>\n",
              "        <tr>\n",
              "            <td>PF      </td> <td>12.7646    </td>\n",
              "        </tr>\n",
              "        <tr>\n",
              "            <td>PG      </td> <td>12.7541    </td>\n",
              "        </tr>\n",
              "        <tr>\n",
              "            <td>SF      </td> <td>14.9192    </td>\n",
              "        </tr>\n",
              "        <tr>\n",
              "            <td>SG      </td> <td>11.6078    </td>\n",
              "        </tr>\n",
              "    </tbody>\n",
              "</table>"
            ],
            "text/plain": [
              "POSITION | SALARY mean\n",
              "C        | 12.8281\n",
              "PF       | 12.7646\n",
              "PG       | 12.7541\n",
              "SF       | 14.9192\n",
              "SG       | 11.6078"
            ]
          },
          "metadata": {
            "tags": []
          },
          "execution_count": 67
        }
      ]
    },
    {
      "cell_type": "markdown",
      "metadata": {
        "id": "zr9FZBf8vVFC"
      },
      "source": [
        "문제6\n",
        "위에서 구한 두 Table을 합쳐 Table 변수 top을 생성하시오. 이 때, column의 이름을 top100, top200으로 고치되 출력 순서도 top100, top200이 되도록 하시오."
      ]
    },
    {
      "cell_type": "code",
      "metadata": {
        "colab": {
          "base_uri": "https://localhost:8080/",
          "height": 198
        },
        "id": "aUw1fVNkvXaW",
        "outputId": "ffb3af1f-c3e6-4f85-f59e-73d70773294e"
      },
      "source": [
        "top=top100.join('POSITION',top200,'POSITION').relabeled('SALARY mean','top100').relabeled('SALARY mean_2','top200')\n",
        "top\n"
      ],
      "execution_count": 68,
      "outputs": [
        {
          "output_type": "execute_result",
          "data": {
            "text/html": [
              "<table border=\"1\" class=\"dataframe\">\n",
              "    <thead>\n",
              "        <tr>\n",
              "            <th>POSITION</th> <th>top100</th> <th>top200</th>\n",
              "        </tr>\n",
              "    </thead>\n",
              "    <tbody>\n",
              "        <tr>\n",
              "            <td>C       </td> <td>12.8281</td> <td>9.07777</td>\n",
              "        </tr>\n",
              "        <tr>\n",
              "            <td>PF      </td> <td>12.7646</td> <td>8.1689 </td>\n",
              "        </tr>\n",
              "        <tr>\n",
              "            <td>PG      </td> <td>12.7541</td> <td>9.12843</td>\n",
              "        </tr>\n",
              "        <tr>\n",
              "            <td>SF      </td> <td>14.9192</td> <td>10.2884</td>\n",
              "        </tr>\n",
              "        <tr>\n",
              "            <td>SG      </td> <td>11.6078</td> <td>8.10591</td>\n",
              "        </tr>\n",
              "    </tbody>\n",
              "</table>"
            ],
            "text/plain": [
              "POSITION | top100  | top200\n",
              "C        | 12.8281 | 9.07777\n",
              "PF       | 12.7646 | 8.1689\n",
              "PG       | 12.7541 | 9.12843\n",
              "SF       | 14.9192 | 10.2884\n",
              "SG       | 11.6078 | 8.10591"
            ]
          },
          "metadata": {
            "tags": []
          },
          "execution_count": 68
        }
      ]
    },
    {
      "cell_type": "markdown",
      "metadata": {
        "id": "253-FSs_wVhN"
      },
      "source": [
        "문제7\n",
        "top100과 top200의 POSITION별 상대적 SALARY비중을 비교하기 위하여 top100과 top200 column 각각에 대하여 백분율(소수점 2번째자리에서 round-off)한 결과를 top에 추가하시오."
      ]
    },
    {
      "cell_type": "code",
      "metadata": {
        "colab": {
          "base_uri": "https://localhost:8080/",
          "height": 198
        },
        "id": "2iwtoQpgwXoy",
        "outputId": "488c6058-44f5-4818-ded4-fa81249b7070"
      },
      "source": [
        "def percents(counts):\n",
        "  total = counts.sum()\n",
        "  return np.round((counts/total)*100,2)\n",
        "top=top.with_columns(\n",
        "    'top100 Percent',percents(top.column(1)),\n",
        "    'top200 Percent',percents(top.column(2))\n",
        ")\n",
        "top"
      ],
      "execution_count": 69,
      "outputs": [
        {
          "output_type": "execute_result",
          "data": {
            "text/html": [
              "<table border=\"1\" class=\"dataframe\">\n",
              "    <thead>\n",
              "        <tr>\n",
              "            <th>POSITION</th> <th>top100</th> <th>top200</th> <th>top100 Percent</th> <th>top200 Percent</th>\n",
              "        </tr>\n",
              "    </thead>\n",
              "    <tbody>\n",
              "        <tr>\n",
              "            <td>C       </td> <td>12.8281</td> <td>9.07777</td> <td>19.77         </td> <td>20.28         </td>\n",
              "        </tr>\n",
              "        <tr>\n",
              "            <td>PF      </td> <td>12.7646</td> <td>8.1689 </td> <td>19.68         </td> <td>18.25         </td>\n",
              "        </tr>\n",
              "        <tr>\n",
              "            <td>PG      </td> <td>12.7541</td> <td>9.12843</td> <td>19.66         </td> <td>20.39         </td>\n",
              "        </tr>\n",
              "        <tr>\n",
              "            <td>SF      </td> <td>14.9192</td> <td>10.2884</td> <td>23            </td> <td>22.98         </td>\n",
              "        </tr>\n",
              "        <tr>\n",
              "            <td>SG      </td> <td>11.6078</td> <td>8.10591</td> <td>17.89         </td> <td>18.11         </td>\n",
              "        </tr>\n",
              "    </tbody>\n",
              "</table>"
            ],
            "text/plain": [
              "POSITION | top100  | top200  | top100 Percent | top200 Percent\n",
              "C        | 12.8281 | 9.07777 | 19.77          | 20.28\n",
              "PF       | 12.7646 | 8.1689  | 19.68          | 18.25\n",
              "PG       | 12.7541 | 9.12843 | 19.66          | 20.39\n",
              "SF       | 14.9192 | 10.2884 | 23             | 22.98\n",
              "SG       | 11.6078 | 8.10591 | 17.89          | 18.11"
            ]
          },
          "metadata": {
            "tags": []
          },
          "execution_count": 69
        }
      ]
    },
    {
      "cell_type": "markdown",
      "metadata": {
        "id": "xb5DS8aWyeYR"
      },
      "source": [
        "문제8\n",
        "top100 Percent와 top200 Percent에 대해서 수평 Bar 그래프를 그리시오."
      ]
    },
    {
      "cell_type": "code",
      "metadata": {
        "colab": {
          "base_uri": "https://localhost:8080/",
          "height": 282
        },
        "id": "dkff07obyfwP",
        "outputId": "9db54e66-8e5d-48bf-aaef-1ab73bc70926"
      },
      "source": [
        "top.select(0,3,4).barh(0)"
      ],
      "execution_count": 70,
      "outputs": [
        {
          "output_type": "display_data",
          "data": {
            "image/png": "[encoded data removed]",
            "text/plain": [
              "<Figure size 432x288 with 1 Axes>"
            ]
          },
          "metadata": {
            "tags": []
          }
        }
      ]
    },
    {
      "cell_type": "markdown",
      "metadata": {
        "id": "lF2Iib3ny2Xp"
      },
      "source": [
        "문제9\n",
        "Table변수 nba의 SALARY column에 대해서 histogram을 그리시오. (단, bins의 개수를 50으로 설정하시오)"
      ]
    },
    {
      "cell_type": "code",
      "metadata": {
        "colab": {
          "base_uri": "https://localhost:8080/",
          "height": 301
        },
        "id": "785HL3Ppy9tR",
        "outputId": "7b5515a9-494a-4731-c811-b285cfb54f88"
      },
      "source": [
        "nba.hist('SALARY',bins=50)"
      ],
      "execution_count": 71,
      "outputs": [
        {
          "output_type": "display_data",
          "data": {
            "image/png": "[encoded data removed]",
            "text/plain": [
              "<Figure size 432x288 with 1 Axes>"
            ]
          },
          "metadata": {
            "tags": []
          }
        }
      ]
    }
  ]
}