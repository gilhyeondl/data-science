{
  "nbformat": 4,
  "nbformat_minor": 0,
  "metadata": {
    "colab": {
      "name": "과제1주차2주차",
      "provenance": []
    },
    "kernelspec": {
      "name": "python3",
      "display_name": "Python 3"
    },
    "language_info": {
      "name": "python"
    }
  },
  "cells": [
    {
      "cell_type": "markdown",
      "metadata": {
        "id": "AyFkG_uYA7fh"
      },
      "source": [
        "HOMEWORK 1주차"
      ]
    },
    {
      "cell_type": "code",
      "metadata": {
        "id": "s7MTzdsS-Cx9"
      },
      "source": [
        "\n",
        "import numpy as np\n",
        "rng=np.random.RandomState(100)\n",
        "score=rng.randint(0, 101,(50,5))\n",
        "score"
      ],
      "execution_count": null,
      "outputs": []
    },
    {
      "cell_type": "markdown",
      "metadata": {
        "id": "pIzLucrS-H6m"
      },
      "source": [
        "가장 마지막 학생의 영어 점수가 9점이 아니라 90점이라고 한다. 이렇게 수정하기 위한 코드를 작성하시오."
      ]
    },
    {
      "cell_type": "code",
      "metadata": {
        "id": "rRu50CnG-GpZ"
      },
      "source": [
        "score[49][1]=90\n",
        "print(score[len(score)-1])"
      ],
      "execution_count": null,
      "outputs": []
    },
    {
      "cell_type": "markdown",
      "metadata": {
        "id": "TZlgTNo0-RVo"
      },
      "source": [
        "모든 학생들의 수학점수가 1점을 줄여야 한다고 한다. 이렇게 수정하기 위한 코드를 작성하시오.\n"
      ]
    },
    {
      "cell_type": "code",
      "metadata": {
        "id": "oUR1pdoV-TXF"
      },
      "source": [
        "score[:,2] = score[:,2] - 1\n",
        "score[0], score[49]\n"
      ],
      "execution_count": null,
      "outputs": []
    },
    {
      "cell_type": "markdown",
      "metadata": {
        "id": "24yboLO2-eug"
      },
      "source": [
        "50명의 추가 학생들의 점수가 다음 score_add 변수에 주어진다. 이를 score 변수 데이터 끝에 덧붙여 100명의 데이터를 저장하고자 한다. 이를 위한 코드를 작성하시오"
      ]
    },
    {
      "cell_type": "code",
      "metadata": {
        "id": "yBZaWEsp-gDL"
      },
      "source": [
        "score_add=rng.randint(0, 101,(50,5))\n",
        "score_add"
      ],
      "execution_count": null,
      "outputs": []
    },
    {
      "cell_type": "code",
      "metadata": {
        "id": "y04B6Sio-kQQ"
      },
      "source": [
        "score=np.concatenate([score, score_add], axis=0)\n",
        "score[0], score[49], score[50], score[99]"
      ],
      "execution_count": null,
      "outputs": []
    },
    {
      "cell_type": "markdown",
      "metadata": {
        "id": "B5CmHYEn-uDI"
      },
      "source": [
        "과목별 평균점수를 뜻하는 avg_subject array(1차원)를 구하는 코드를 작성하시오."
      ]
    },
    {
      "cell_type": "code",
      "metadata": {
        "id": "d252mWrl-xWf"
      },
      "source": [
        "avg_subject=np.mean(score, axis=0)\n",
        "avg_subject"
      ],
      "execution_count": null,
      "outputs": []
    },
    {
      "cell_type": "markdown",
      "metadata": {
        "id": "BfYP3x1--4va"
      },
      "source": [
        "학생별 평균점수를 뜻하는 avg_student array(1차원)를 구하는 코드를 작성하시오."
      ]
    },
    {
      "cell_type": "code",
      "metadata": {
        "id": "6Ed8btZc-8mO"
      },
      "source": [
        "avg_student=np.mean(score, axis=1)\n",
        "avg_student"
      ],
      "execution_count": null,
      "outputs": []
    },
    {
      "cell_type": "markdown",
      "metadata": {
        "id": "8pKTofet_CZX"
      },
      "source": [
        "각 점수가 해당과목의 평균으로부터 얼마나 차이가 나는지(이를 편차라고 한다.)를 나타내는 score_dev array(2차원)를 생성하시오.\n",
        "\n",
        "score_dev의 shape는 score의 shape와 동일하다. 즉 (100, 5)\n",
        "만약 어떤 학생의 국어 점수가 30점이고 국어 평균이 45점이면 그 차이는  30−45=−15  점이다."
      ]
    },
    {
      "cell_type": "code",
      "metadata": {
        "id": "_kLrhlLf_D8F"
      },
      "source": [
        "score_dev=score-avg_subject\n",
        "score_dev[0], score_dev[99]"
      ],
      "execution_count": null,
      "outputs": []
    },
    {
      "cell_type": "markdown",
      "metadata": {
        "id": "ytY98v2h_SKY"
      },
      "source": [
        "전체과목 평균점수를 기준으로 1등을 한 학생과 꼴등을 한 학생의 5개 과목 점수 array를 각각 student_best, _student_worst_에 각각 저장하시오."
      ]
    },
    {
      "cell_type": "code",
      "metadata": {
        "id": "2ppcOfdj_S_3"
      },
      "source": [
        "student_best = score[ np.argmax(avg_student) ]\n",
        "student_worst = score[ np.argmin(avg_student) ]\n",
        "student_best, student_worst"
      ],
      "execution_count": null,
      "outputs": []
    },
    {
      "cell_type": "markdown",
      "metadata": {
        "id": "2ythVuRrASww"
      },
      "source": [
        "전체 학생의 평균점수를 구하여 avg_total 변수에 저장하시오."
      ]
    },
    {
      "cell_type": "code",
      "metadata": {
        "id": "JdIHi9OZATqG"
      },
      "source": [
        "avg_total = np.average(score)\n",
        "avg_total"
      ],
      "execution_count": null,
      "outputs": []
    },
    {
      "cell_type": "markdown",
      "metadata": {
        "id": "oiB53Qe-Aa0n"
      },
      "source": [
        "과학점수가 사회점수보다 더 높은 학생 수를 구하여 no_student_sci 변수에 저장하시오."
      ]
    },
    {
      "cell_type": "code",
      "metadata": {
        "id": "TjB2Mk4XAbf0"
      },
      "source": [
        "no_student_sci = np.sum(score[:,3] > score[:,4])\n",
        "no_student_sci"
      ],
      "execution_count": null,
      "outputs": []
    },
    {
      "cell_type": "markdown",
      "metadata": {
        "id": "D7YFjRkiBJyD"
      },
      "source": [
        "******\n",
        "********HOMEWORK 2주차\n"
      ]
    },
    {
      "cell_type": "code",
      "metadata": {
        "id": "OJSRtum4BRwT"
      },
      "source": [
        "import numpy as np\n",
        "import pandas as pd\n",
        "np.random.seed(0)\n",
        "\n",
        "sname=['s'+format(i, '03d') for i in range(100)]\n",
        "noclass=np.random.randint(1, 6, 100)\n",
        "gender=['female']*50 + ['male']*50\n",
        "height=np.random.randint(160, 190, 100)\n",
        "weight=np.random.randint(50, 80, 100)"
      ],
      "execution_count": 16,
      "outputs": []
    },
    {
      "cell_type": "markdown",
      "metadata": {
        "id": "ZFGhgVNwBXfZ"
      },
      "source": [
        "문제1\n",
        "sname, noclass, gender, height, weight를 column으로 사용하는 DataFrame 변수 student를 생성하시오. (index는 자동으로 생성되는 정수)"
      ]
    },
    {
      "cell_type": "code",
      "metadata": {
        "colab": {
          "base_uri": "https://localhost:8080/",
          "height": 407
        },
        "id": "B9cubjjRBYhj",
        "outputId": "68f3caa3-7c01-49fc-b19c-061069616378"
      },
      "source": [
        "student=pd.DataFrame({'sname':sname, 'noclass':noclass, 'gender':gender, 'height':height, 'weight':weight})\n",
        "student"
      ],
      "execution_count": 18,
      "outputs": [
        {
          "output_type": "execute_result",
          "data": {
            "text/html": [
              "<div>\n",
              "<style scoped>\n",
              "    .dataframe tbody tr th:only-of-type {\n",
              "        vertical-align: middle;\n",
              "    }\n",
              "\n",
              "    .dataframe tbody tr th {\n",
              "        vertical-align: top;\n",
              "    }\n",
              "\n",
              "    .dataframe thead th {\n",
              "        text-align: right;\n",
              "    }\n",
              "</style>\n",
              "<table border=\"1\" class=\"dataframe\">\n",
              "  <thead>\n",
              "    <tr style=\"text-align: right;\">\n",
              "      <th></th>\n",
              "      <th>sname</th>\n",
              "      <th>noclass</th>\n",
              "      <th>gender</th>\n",
              "      <th>height</th>\n",
              "      <th>weight</th>\n",
              "    </tr>\n",
              "  </thead>\n",
              "  <tbody>\n",
              "    <tr>\n",
              "      <th>0</th>\n",
              "      <td>s000</td>\n",
              "      <td>5</td>\n",
              "      <td>female</td>\n",
              "      <td>186</td>\n",
              "      <td>59</td>\n",
              "    </tr>\n",
              "    <tr>\n",
              "      <th>1</th>\n",
              "      <td>s001</td>\n",
              "      <td>1</td>\n",
              "      <td>female</td>\n",
              "      <td>183</td>\n",
              "      <td>68</td>\n",
              "    </tr>\n",
              "    <tr>\n",
              "      <th>2</th>\n",
              "      <td>s002</td>\n",
              "      <td>4</td>\n",
              "      <td>female</td>\n",
              "      <td>187</td>\n",
              "      <td>58</td>\n",
              "    </tr>\n",
              "    <tr>\n",
              "      <th>3</th>\n",
              "      <td>s003</td>\n",
              "      <td>4</td>\n",
              "      <td>female</td>\n",
              "      <td>162</td>\n",
              "      <td>72</td>\n",
              "    </tr>\n",
              "    <tr>\n",
              "      <th>4</th>\n",
              "      <td>s004</td>\n",
              "      <td>4</td>\n",
              "      <td>female</td>\n",
              "      <td>185</td>\n",
              "      <td>65</td>\n",
              "    </tr>\n",
              "    <tr>\n",
              "      <th>...</th>\n",
              "      <td>...</td>\n",
              "      <td>...</td>\n",
              "      <td>...</td>\n",
              "      <td>...</td>\n",
              "      <td>...</td>\n",
              "    </tr>\n",
              "    <tr>\n",
              "      <th>95</th>\n",
              "      <td>s095</td>\n",
              "      <td>2</td>\n",
              "      <td>male</td>\n",
              "      <td>173</td>\n",
              "      <td>77</td>\n",
              "    </tr>\n",
              "    <tr>\n",
              "      <th>96</th>\n",
              "      <td>s096</td>\n",
              "      <td>1</td>\n",
              "      <td>male</td>\n",
              "      <td>167</td>\n",
              "      <td>58</td>\n",
              "    </tr>\n",
              "    <tr>\n",
              "      <th>97</th>\n",
              "      <td>s097</td>\n",
              "      <td>3</td>\n",
              "      <td>male</td>\n",
              "      <td>184</td>\n",
              "      <td>70</td>\n",
              "    </tr>\n",
              "    <tr>\n",
              "      <th>98</th>\n",
              "      <td>s098</td>\n",
              "      <td>3</td>\n",
              "      <td>male</td>\n",
              "      <td>184</td>\n",
              "      <td>54</td>\n",
              "    </tr>\n",
              "    <tr>\n",
              "      <th>99</th>\n",
              "      <td>s099</td>\n",
              "      <td>4</td>\n",
              "      <td>male</td>\n",
              "      <td>175</td>\n",
              "      <td>66</td>\n",
              "    </tr>\n",
              "  </tbody>\n",
              "</table>\n",
              "<p>100 rows × 5 columns</p>\n",
              "</div>"
            ],
            "text/plain": [
              "   sname  noclass  gender  height  weight\n",
              "0   s000        5  female     186      59\n",
              "1   s001        1  female     183      68\n",
              "2   s002        4  female     187      58\n",
              "3   s003        4  female     162      72\n",
              "4   s004        4  female     185      65\n",
              "..   ...      ...     ...     ...     ...\n",
              "95  s095        2    male     173      77\n",
              "96  s096        1    male     167      58\n",
              "97  s097        3    male     184      70\n",
              "98  s098        3    male     184      54\n",
              "99  s099        4    male     175      66\n",
              "\n",
              "[100 rows x 5 columns]"
            ]
          },
          "metadata": {
            "tags": []
          },
          "execution_count": 18
        }
      ]
    },
    {
      "cell_type": "markdown",
      "metadata": {
        "id": "LREXgeDTDkoT"
      },
      "source": [
        "문제2\n",
        "1반부터 5반까지 담임교사의 성이 각각 Kim, Lee, Park, Choi, Yun이라고 할 때 반번호(1반~5반)와 담임교사의 이름(tname)을 column으로 가지는 DataFrame 변수 teacher를 생성하시오. (index는 자동으로 생성되는 정수값이다)"
      ]
    },
    {
      "cell_type": "code",
      "metadata": {
        "colab": {
          "base_uri": "https://localhost:8080/",
          "height": 198
        },
        "id": "TpeR1X4UDoMS",
        "outputId": "3aa12d3e-d76b-4bf6-911f-176ec2005f2f"
      },
      "source": [
        "teacher=pd.DataFrame({'noclass':[1,2,3,4,5],'tname':['Kim','Lee','Park','Choi','Yun']})\n",
        "teacher"
      ],
      "execution_count": 19,
      "outputs": [
        {
          "output_type": "execute_result",
          "data": {
            "text/html": [
              "<div>\n",
              "<style scoped>\n",
              "    .dataframe tbody tr th:only-of-type {\n",
              "        vertical-align: middle;\n",
              "    }\n",
              "\n",
              "    .dataframe tbody tr th {\n",
              "        vertical-align: top;\n",
              "    }\n",
              "\n",
              "    .dataframe thead th {\n",
              "        text-align: right;\n",
              "    }\n",
              "</style>\n",
              "<table border=\"1\" class=\"dataframe\">\n",
              "  <thead>\n",
              "    <tr style=\"text-align: right;\">\n",
              "      <th></th>\n",
              "      <th>noclass</th>\n",
              "      <th>tname</th>\n",
              "    </tr>\n",
              "  </thead>\n",
              "  <tbody>\n",
              "    <tr>\n",
              "      <th>0</th>\n",
              "      <td>1</td>\n",
              "      <td>Kim</td>\n",
              "    </tr>\n",
              "    <tr>\n",
              "      <th>1</th>\n",
              "      <td>2</td>\n",
              "      <td>Lee</td>\n",
              "    </tr>\n",
              "    <tr>\n",
              "      <th>2</th>\n",
              "      <td>3</td>\n",
              "      <td>Park</td>\n",
              "    </tr>\n",
              "    <tr>\n",
              "      <th>3</th>\n",
              "      <td>4</td>\n",
              "      <td>Choi</td>\n",
              "    </tr>\n",
              "    <tr>\n",
              "      <th>4</th>\n",
              "      <td>5</td>\n",
              "      <td>Yun</td>\n",
              "    </tr>\n",
              "  </tbody>\n",
              "</table>\n",
              "</div>"
            ],
            "text/plain": [
              "   noclass tname\n",
              "0        1   Kim\n",
              "1        2   Lee\n",
              "2        3  Park\n",
              "3        4  Choi\n",
              "4        5   Yun"
            ]
          },
          "metadata": {
            "tags": []
          },
          "execution_count": 19
        }
      ]
    },
    {
      "cell_type": "markdown",
      "metadata": {
        "id": "-pCBDUEjD5v7"
      },
      "source": [
        "문제3\n",
        "두 DataFrame 변수 student와 teacher를 합쳐서 info 라는 이름의 DataFrame변수를 생성하시오.\n",
        "\n",
        "noclass column이 key값이 된다."
      ]
    },
    {
      "cell_type": "code",
      "metadata": {
        "colab": {
          "base_uri": "https://localhost:8080/",
          "height": 198
        },
        "id": "j71EEGIWD7nJ",
        "outputId": "66d47a5e-f955-424c-c9c9-43a2a8fbf6d5"
      },
      "source": [
        "info=student.merge(teacher)\n",
        "info.head()"
      ],
      "execution_count": 21,
      "outputs": [
        {
          "output_type": "execute_result",
          "data": {
            "text/html": [
              "<div>\n",
              "<style scoped>\n",
              "    .dataframe tbody tr th:only-of-type {\n",
              "        vertical-align: middle;\n",
              "    }\n",
              "\n",
              "    .dataframe tbody tr th {\n",
              "        vertical-align: top;\n",
              "    }\n",
              "\n",
              "    .dataframe thead th {\n",
              "        text-align: right;\n",
              "    }\n",
              "</style>\n",
              "<table border=\"1\" class=\"dataframe\">\n",
              "  <thead>\n",
              "    <tr style=\"text-align: right;\">\n",
              "      <th></th>\n",
              "      <th>sname</th>\n",
              "      <th>noclass</th>\n",
              "      <th>gender</th>\n",
              "      <th>height</th>\n",
              "      <th>weight</th>\n",
              "      <th>tname</th>\n",
              "    </tr>\n",
              "  </thead>\n",
              "  <tbody>\n",
              "    <tr>\n",
              "      <th>0</th>\n",
              "      <td>s000</td>\n",
              "      <td>5</td>\n",
              "      <td>female</td>\n",
              "      <td>186</td>\n",
              "      <td>59</td>\n",
              "      <td>Yun</td>\n",
              "    </tr>\n",
              "    <tr>\n",
              "      <th>1</th>\n",
              "      <td>s008</td>\n",
              "      <td>5</td>\n",
              "      <td>female</td>\n",
              "      <td>163</td>\n",
              "      <td>79</td>\n",
              "      <td>Yun</td>\n",
              "    </tr>\n",
              "    <tr>\n",
              "      <th>2</th>\n",
              "      <td>s011</td>\n",
              "      <td>5</td>\n",
              "      <td>female</td>\n",
              "      <td>163</td>\n",
              "      <td>72</td>\n",
              "      <td>Yun</td>\n",
              "    </tr>\n",
              "    <tr>\n",
              "      <th>3</th>\n",
              "      <td>s019</td>\n",
              "      <td>5</td>\n",
              "      <td>female</td>\n",
              "      <td>161</td>\n",
              "      <td>53</td>\n",
              "      <td>Yun</td>\n",
              "    </tr>\n",
              "    <tr>\n",
              "      <th>4</th>\n",
              "      <td>s037</td>\n",
              "      <td>5</td>\n",
              "      <td>female</td>\n",
              "      <td>184</td>\n",
              "      <td>79</td>\n",
              "      <td>Yun</td>\n",
              "    </tr>\n",
              "  </tbody>\n",
              "</table>\n",
              "</div>"
            ],
            "text/plain": [
              "  sname  noclass  gender  height  weight tname\n",
              "0  s000        5  female     186      59   Yun\n",
              "1  s008        5  female     163      79   Yun\n",
              "2  s011        5  female     163      72   Yun\n",
              "3  s019        5  female     161      53   Yun\n",
              "4  s037        5  female     184      79   Yun"
            ]
          },
          "metadata": {
            "tags": []
          },
          "execution_count": 21
        }
      ]
    },
    {
      "cell_type": "markdown",
      "metadata": {
        "id": "oCxfZy9bGDve"
      },
      "source": [
        "문제4\n",
        "ratio=height−weight  일 때 새로운 column인 ratio를 info 에 추가하시오."
      ]
    },
    {
      "cell_type": "code",
      "metadata": {
        "colab": {
          "base_uri": "https://localhost:8080/",
          "height": 198
        },
        "id": "ZmsbcuYVGGI2",
        "outputId": "1b3f8362-5653-42c9-e15b-2f288ec97ae5"
      },
      "source": [
        "info['ratio']=info['height']-info['weight']\n",
        "info.head()"
      ],
      "execution_count": 23,
      "outputs": [
        {
          "output_type": "execute_result",
          "data": {
            "text/html": [
              "<div>\n",
              "<style scoped>\n",
              "    .dataframe tbody tr th:only-of-type {\n",
              "        vertical-align: middle;\n",
              "    }\n",
              "\n",
              "    .dataframe tbody tr th {\n",
              "        vertical-align: top;\n",
              "    }\n",
              "\n",
              "    .dataframe thead th {\n",
              "        text-align: right;\n",
              "    }\n",
              "</style>\n",
              "<table border=\"1\" class=\"dataframe\">\n",
              "  <thead>\n",
              "    <tr style=\"text-align: right;\">\n",
              "      <th></th>\n",
              "      <th>sname</th>\n",
              "      <th>noclass</th>\n",
              "      <th>gender</th>\n",
              "      <th>height</th>\n",
              "      <th>weight</th>\n",
              "      <th>tname</th>\n",
              "      <th>ration</th>\n",
              "      <th>ratio</th>\n",
              "    </tr>\n",
              "  </thead>\n",
              "  <tbody>\n",
              "    <tr>\n",
              "      <th>0</th>\n",
              "      <td>s000</td>\n",
              "      <td>5</td>\n",
              "      <td>female</td>\n",
              "      <td>186</td>\n",
              "      <td>59</td>\n",
              "      <td>Yun</td>\n",
              "      <td>127</td>\n",
              "      <td>127</td>\n",
              "    </tr>\n",
              "    <tr>\n",
              "      <th>1</th>\n",
              "      <td>s008</td>\n",
              "      <td>5</td>\n",
              "      <td>female</td>\n",
              "      <td>163</td>\n",
              "      <td>79</td>\n",
              "      <td>Yun</td>\n",
              "      <td>84</td>\n",
              "      <td>84</td>\n",
              "    </tr>\n",
              "    <tr>\n",
              "      <th>2</th>\n",
              "      <td>s011</td>\n",
              "      <td>5</td>\n",
              "      <td>female</td>\n",
              "      <td>163</td>\n",
              "      <td>72</td>\n",
              "      <td>Yun</td>\n",
              "      <td>91</td>\n",
              "      <td>91</td>\n",
              "    </tr>\n",
              "    <tr>\n",
              "      <th>3</th>\n",
              "      <td>s019</td>\n",
              "      <td>5</td>\n",
              "      <td>female</td>\n",
              "      <td>161</td>\n",
              "      <td>53</td>\n",
              "      <td>Yun</td>\n",
              "      <td>108</td>\n",
              "      <td>108</td>\n",
              "    </tr>\n",
              "    <tr>\n",
              "      <th>4</th>\n",
              "      <td>s037</td>\n",
              "      <td>5</td>\n",
              "      <td>female</td>\n",
              "      <td>184</td>\n",
              "      <td>79</td>\n",
              "      <td>Yun</td>\n",
              "      <td>105</td>\n",
              "      <td>105</td>\n",
              "    </tr>\n",
              "  </tbody>\n",
              "</table>\n",
              "</div>"
            ],
            "text/plain": [
              "  sname  noclass  gender  height  weight tname  ration  ratio\n",
              "0  s000        5  female     186      59   Yun     127    127\n",
              "1  s008        5  female     163      79   Yun      84     84\n",
              "2  s011        5  female     163      72   Yun      91     91\n",
              "3  s019        5  female     161      53   Yun     108    108\n",
              "4  s037        5  female     184      79   Yun     105    105"
            ]
          },
          "metadata": {
            "tags": []
          },
          "execution_count": 23
        }
      ]
    },
    {
      "cell_type": "markdown",
      "metadata": {
        "id": "6zo7Mw9FGaDf"
      },
      "source": [
        "문제5\n",
        "info에서 sname변수가 index로 되도록 변경한 info_sname 변수를 생성하시오."
      ]
    },
    {
      "cell_type": "code",
      "metadata": {
        "colab": {
          "base_uri": "https://localhost:8080/",
          "height": 228
        },
        "id": "PtuNn5yUGZhn",
        "outputId": "4b7cf7e7-2b93-44f2-b277-4fc8451e8112"
      },
      "source": [
        "info_sname=info.set_index('sname')\n",
        "info_sname.head()"
      ],
      "execution_count": 24,
      "outputs": [
        {
          "output_type": "execute_result",
          "data": {
            "text/html": [
              "<div>\n",
              "<style scoped>\n",
              "    .dataframe tbody tr th:only-of-type {\n",
              "        vertical-align: middle;\n",
              "    }\n",
              "\n",
              "    .dataframe tbody tr th {\n",
              "        vertical-align: top;\n",
              "    }\n",
              "\n",
              "    .dataframe thead th {\n",
              "        text-align: right;\n",
              "    }\n",
              "</style>\n",
              "<table border=\"1\" class=\"dataframe\">\n",
              "  <thead>\n",
              "    <tr style=\"text-align: right;\">\n",
              "      <th></th>\n",
              "      <th>noclass</th>\n",
              "      <th>gender</th>\n",
              "      <th>height</th>\n",
              "      <th>weight</th>\n",
              "      <th>tname</th>\n",
              "      <th>ration</th>\n",
              "      <th>ratio</th>\n",
              "    </tr>\n",
              "    <tr>\n",
              "      <th>sname</th>\n",
              "      <th></th>\n",
              "      <th></th>\n",
              "      <th></th>\n",
              "      <th></th>\n",
              "      <th></th>\n",
              "      <th></th>\n",
              "      <th></th>\n",
              "    </tr>\n",
              "  </thead>\n",
              "  <tbody>\n",
              "    <tr>\n",
              "      <th>s000</th>\n",
              "      <td>5</td>\n",
              "      <td>female</td>\n",
              "      <td>186</td>\n",
              "      <td>59</td>\n",
              "      <td>Yun</td>\n",
              "      <td>127</td>\n",
              "      <td>127</td>\n",
              "    </tr>\n",
              "    <tr>\n",
              "      <th>s008</th>\n",
              "      <td>5</td>\n",
              "      <td>female</td>\n",
              "      <td>163</td>\n",
              "      <td>79</td>\n",
              "      <td>Yun</td>\n",
              "      <td>84</td>\n",
              "      <td>84</td>\n",
              "    </tr>\n",
              "    <tr>\n",
              "      <th>s011</th>\n",
              "      <td>5</td>\n",
              "      <td>female</td>\n",
              "      <td>163</td>\n",
              "      <td>72</td>\n",
              "      <td>Yun</td>\n",
              "      <td>91</td>\n",
              "      <td>91</td>\n",
              "    </tr>\n",
              "    <tr>\n",
              "      <th>s019</th>\n",
              "      <td>5</td>\n",
              "      <td>female</td>\n",
              "      <td>161</td>\n",
              "      <td>53</td>\n",
              "      <td>Yun</td>\n",
              "      <td>108</td>\n",
              "      <td>108</td>\n",
              "    </tr>\n",
              "    <tr>\n",
              "      <th>s037</th>\n",
              "      <td>5</td>\n",
              "      <td>female</td>\n",
              "      <td>184</td>\n",
              "      <td>79</td>\n",
              "      <td>Yun</td>\n",
              "      <td>105</td>\n",
              "      <td>105</td>\n",
              "    </tr>\n",
              "  </tbody>\n",
              "</table>\n",
              "</div>"
            ],
            "text/plain": [
              "       noclass  gender  height  weight tname  ration  ratio\n",
              "sname                                                      \n",
              "s000         5  female     186      59   Yun     127    127\n",
              "s008         5  female     163      79   Yun      84     84\n",
              "s011         5  female     163      72   Yun      91     91\n",
              "s019         5  female     161      53   Yun     108    108\n",
              "s037         5  female     184      79   Yun     105    105"
            ]
          },
          "metadata": {
            "tags": []
          },
          "execution_count": 24
        }
      ]
    },
    {
      "cell_type": "markdown",
      "metadata": {
        "id": "55917xvvGweS"
      },
      "source": [
        "문제6\n",
        "반별로 height, weight, ratio의 평균값을 구하여 아래 결과와 같이 dataframe 변수 info_avg에 저장하시오.\n",
        "\n",
        "info와 info_sname 중 어떤 변수를 사용하여도 좋다."
      ]
    },
    {
      "cell_type": "code",
      "metadata": {
        "colab": {
          "base_uri": "https://localhost:8080/",
          "height": 228
        },
        "id": "2Rb_P__OGxDn",
        "outputId": "61f90511-a043-4479-e5ab-712a017e65cc"
      },
      "source": [
        "info_avg=info.groupby('noclass').mean()\n",
        "info_avg"
      ],
      "execution_count": 25,
      "outputs": [
        {
          "output_type": "execute_result",
          "data": {
            "text/html": [
              "<div>\n",
              "<style scoped>\n",
              "    .dataframe tbody tr th:only-of-type {\n",
              "        vertical-align: middle;\n",
              "    }\n",
              "\n",
              "    .dataframe tbody tr th {\n",
              "        vertical-align: top;\n",
              "    }\n",
              "\n",
              "    .dataframe thead th {\n",
              "        text-align: right;\n",
              "    }\n",
              "</style>\n",
              "<table border=\"1\" class=\"dataframe\">\n",
              "  <thead>\n",
              "    <tr style=\"text-align: right;\">\n",
              "      <th></th>\n",
              "      <th>height</th>\n",
              "      <th>weight</th>\n",
              "      <th>ration</th>\n",
              "      <th>ratio</th>\n",
              "    </tr>\n",
              "    <tr>\n",
              "      <th>noclass</th>\n",
              "      <th></th>\n",
              "      <th></th>\n",
              "      <th></th>\n",
              "      <th></th>\n",
              "    </tr>\n",
              "  </thead>\n",
              "  <tbody>\n",
              "    <tr>\n",
              "      <th>1</th>\n",
              "      <td>174.227273</td>\n",
              "      <td>62.090909</td>\n",
              "      <td>112.136364</td>\n",
              "      <td>112.136364</td>\n",
              "    </tr>\n",
              "    <tr>\n",
              "      <th>2</th>\n",
              "      <td>174.450000</td>\n",
              "      <td>64.100000</td>\n",
              "      <td>110.350000</td>\n",
              "      <td>110.350000</td>\n",
              "    </tr>\n",
              "    <tr>\n",
              "      <th>3</th>\n",
              "      <td>177.176471</td>\n",
              "      <td>64.000000</td>\n",
              "      <td>113.176471</td>\n",
              "      <td>113.176471</td>\n",
              "    </tr>\n",
              "    <tr>\n",
              "      <th>4</th>\n",
              "      <td>175.318182</td>\n",
              "      <td>63.818182</td>\n",
              "      <td>111.500000</td>\n",
              "      <td>111.500000</td>\n",
              "    </tr>\n",
              "    <tr>\n",
              "      <th>5</th>\n",
              "      <td>174.263158</td>\n",
              "      <td>64.526316</td>\n",
              "      <td>109.736842</td>\n",
              "      <td>109.736842</td>\n",
              "    </tr>\n",
              "  </tbody>\n",
              "</table>\n",
              "</div>"
            ],
            "text/plain": [
              "             height     weight      ration       ratio\n",
              "noclass                                               \n",
              "1        174.227273  62.090909  112.136364  112.136364\n",
              "2        174.450000  64.100000  110.350000  110.350000\n",
              "3        177.176471  64.000000  113.176471  113.176471\n",
              "4        175.318182  63.818182  111.500000  111.500000\n",
              "5        174.263158  64.526316  109.736842  109.736842"
            ]
          },
          "metadata": {
            "tags": []
          },
          "execution_count": 25
        }
      ]
    },
    {
      "cell_type": "markdown",
      "metadata": {
        "id": "1__6AQGzHOpY"
      },
      "source": [
        "문제7\n",
        "pivot_table을 사용하여 반별, 성별 weight 평균값을 구한 결과를 info_pivot 변수에 저장하시오."
      ]
    },
    {
      "cell_type": "code",
      "metadata": {
        "colab": {
          "base_uri": "https://localhost:8080/",
          "height": 228
        },
        "id": "ccceUp0sHKl0",
        "outputId": "de77007f-3f02-4880-91f0-e5bf03f7b056"
      },
      "source": [
        "info_pivot=info.pivot_table('weight',index='noclass',columns='gender')\n",
        "info_pivot"
      ],
      "execution_count": 26,
      "outputs": [
        {
          "output_type": "execute_result",
          "data": {
            "text/html": [
              "<div>\n",
              "<style scoped>\n",
              "    .dataframe tbody tr th:only-of-type {\n",
              "        vertical-align: middle;\n",
              "    }\n",
              "\n",
              "    .dataframe tbody tr th {\n",
              "        vertical-align: top;\n",
              "    }\n",
              "\n",
              "    .dataframe thead th {\n",
              "        text-align: right;\n",
              "    }\n",
              "</style>\n",
              "<table border=\"1\" class=\"dataframe\">\n",
              "  <thead>\n",
              "    <tr style=\"text-align: right;\">\n",
              "      <th>gender</th>\n",
              "      <th>female</th>\n",
              "      <th>male</th>\n",
              "    </tr>\n",
              "    <tr>\n",
              "      <th>noclass</th>\n",
              "      <th></th>\n",
              "      <th></th>\n",
              "    </tr>\n",
              "  </thead>\n",
              "  <tbody>\n",
              "    <tr>\n",
              "      <th>1</th>\n",
              "      <td>65.000000</td>\n",
              "      <td>57.888889</td>\n",
              "    </tr>\n",
              "    <tr>\n",
              "      <th>2</th>\n",
              "      <td>66.600000</td>\n",
              "      <td>61.600000</td>\n",
              "    </tr>\n",
              "    <tr>\n",
              "      <th>3</th>\n",
              "      <td>64.833333</td>\n",
              "      <td>63.545455</td>\n",
              "    </tr>\n",
              "    <tr>\n",
              "      <th>4</th>\n",
              "      <td>63.416667</td>\n",
              "      <td>64.300000</td>\n",
              "    </tr>\n",
              "    <tr>\n",
              "      <th>5</th>\n",
              "      <td>67.333333</td>\n",
              "      <td>62.000000</td>\n",
              "    </tr>\n",
              "  </tbody>\n",
              "</table>\n",
              "</div>"
            ],
            "text/plain": [
              "gender      female       male\n",
              "noclass                      \n",
              "1        65.000000  57.888889\n",
              "2        66.600000  61.600000\n",
              "3        64.833333  63.545455\n",
              "4        63.416667  64.300000\n",
              "5        67.333333  62.000000"
            ]
          },
          "metadata": {
            "tags": []
          },
          "execution_count": 26
        }
      ]
    },
    {
      "cell_type": "markdown",
      "metadata": {
        "id": "7uNjYOT-Hyk6"
      },
      "source": [
        "문제8\n",
        "각 반에서 남학생과 여학생 수를 가리키는 DataFrame 변수 ct를 생성하시오.\n",
        "\n",
        "(단, 이 때 noclass와 gender 순서로 multi-index하며 column이름은 count로 한다)"
      ]
    },
    {
      "cell_type": "code",
      "metadata": {
        "colab": {
          "base_uri": "https://localhost:8080/",
          "height": 378
        },
        "id": "0RXCW6npH0NV",
        "outputId": "eef401f3-6f98-4e60-93d8-7e2f7bd8313a"
      },
      "source": [
        "x=info.groupby(['noclass','gender'])['height'].count()\n",
        "ct=pd.DataFrame({'count':x})\n",
        "ct"
      ],
      "execution_count": 30,
      "outputs": [
        {
          "output_type": "execute_result",
          "data": {
            "text/html": [
              "<div>\n",
              "<style scoped>\n",
              "    .dataframe tbody tr th:only-of-type {\n",
              "        vertical-align: middle;\n",
              "    }\n",
              "\n",
              "    .dataframe tbody tr th {\n",
              "        vertical-align: top;\n",
              "    }\n",
              "\n",
              "    .dataframe thead th {\n",
              "        text-align: right;\n",
              "    }\n",
              "</style>\n",
              "<table border=\"1\" class=\"dataframe\">\n",
              "  <thead>\n",
              "    <tr style=\"text-align: right;\">\n",
              "      <th></th>\n",
              "      <th></th>\n",
              "      <th>count</th>\n",
              "    </tr>\n",
              "    <tr>\n",
              "      <th>noclass</th>\n",
              "      <th>gender</th>\n",
              "      <th></th>\n",
              "    </tr>\n",
              "  </thead>\n",
              "  <tbody>\n",
              "    <tr>\n",
              "      <th rowspan=\"2\" valign=\"top\">1</th>\n",
              "      <th>female</th>\n",
              "      <td>13</td>\n",
              "    </tr>\n",
              "    <tr>\n",
              "      <th>male</th>\n",
              "      <td>9</td>\n",
              "    </tr>\n",
              "    <tr>\n",
              "      <th rowspan=\"2\" valign=\"top\">2</th>\n",
              "      <th>female</th>\n",
              "      <td>10</td>\n",
              "    </tr>\n",
              "    <tr>\n",
              "      <th>male</th>\n",
              "      <td>10</td>\n",
              "    </tr>\n",
              "    <tr>\n",
              "      <th rowspan=\"2\" valign=\"top\">3</th>\n",
              "      <th>female</th>\n",
              "      <td>6</td>\n",
              "    </tr>\n",
              "    <tr>\n",
              "      <th>male</th>\n",
              "      <td>11</td>\n",
              "    </tr>\n",
              "    <tr>\n",
              "      <th rowspan=\"2\" valign=\"top\">4</th>\n",
              "      <th>female</th>\n",
              "      <td>12</td>\n",
              "    </tr>\n",
              "    <tr>\n",
              "      <th>male</th>\n",
              "      <td>10</td>\n",
              "    </tr>\n",
              "    <tr>\n",
              "      <th rowspan=\"2\" valign=\"top\">5</th>\n",
              "      <th>female</th>\n",
              "      <td>9</td>\n",
              "    </tr>\n",
              "    <tr>\n",
              "      <th>male</th>\n",
              "      <td>10</td>\n",
              "    </tr>\n",
              "  </tbody>\n",
              "</table>\n",
              "</div>"
            ],
            "text/plain": [
              "                count\n",
              "noclass gender       \n",
              "1       female     13\n",
              "        male        9\n",
              "2       female     10\n",
              "        male       10\n",
              "3       female      6\n",
              "        male       11\n",
              "4       female     12\n",
              "        male       10\n",
              "5       female      9\n",
              "        male       10"
            ]
          },
          "metadata": {
            "tags": []
          },
          "execution_count": 30
        }
      ]
    },
    {
      "cell_type": "markdown",
      "metadata": {
        "id": "9NxA7Ux1JAkg"
      },
      "source": [
        "문제9\n",
        "각 학생의 키에서 남학생 혹은 여학생 전체 평균키를 뺀 값을 height_dev 제목의 column으로 info 변수에 추가하시오."
      ]
    },
    {
      "cell_type": "code",
      "metadata": {
        "id": "gTm7d-TMJfP8"
      },
      "source": [
        "def compute_dev(x):\n",
        "  x['height_dev']=x['height']-x['height'].mean()\n",
        "  return x\n",
        "info = info.groupby('gender').apply(compute_dev)"
      ],
      "execution_count": 31,
      "outputs": []
    },
    {
      "cell_type": "code",
      "metadata": {
        "colab": {
          "base_uri": "https://localhost:8080/",
          "height": 407
        },
        "id": "qHmU7k5dK2uM",
        "outputId": "a01fdcdc-5688-44c2-ca4f-0256dba7e404"
      },
      "source": [
        "info"
      ],
      "execution_count": 38,
      "outputs": [
        {
          "output_type": "execute_result",
          "data": {
            "text/html": [
              "<div>\n",
              "<style scoped>\n",
              "    .dataframe tbody tr th:only-of-type {\n",
              "        vertical-align: middle;\n",
              "    }\n",
              "\n",
              "    .dataframe tbody tr th {\n",
              "        vertical-align: top;\n",
              "    }\n",
              "\n",
              "    .dataframe thead th {\n",
              "        text-align: right;\n",
              "    }\n",
              "</style>\n",
              "<table border=\"1\" class=\"dataframe\">\n",
              "  <thead>\n",
              "    <tr style=\"text-align: right;\">\n",
              "      <th></th>\n",
              "      <th>sname</th>\n",
              "      <th>noclass</th>\n",
              "      <th>gender</th>\n",
              "      <th>height</th>\n",
              "      <th>weight</th>\n",
              "      <th>tname</th>\n",
              "      <th>ration</th>\n",
              "      <th>ratio</th>\n",
              "      <th>height_dev</th>\n",
              "    </tr>\n",
              "  </thead>\n",
              "  <tbody>\n",
              "    <tr>\n",
              "      <th>0</th>\n",
              "      <td>s000</td>\n",
              "      <td>5</td>\n",
              "      <td>female</td>\n",
              "      <td>186</td>\n",
              "      <td>59</td>\n",
              "      <td>Yun</td>\n",
              "      <td>127</td>\n",
              "      <td>127</td>\n",
              "      <td>12.42</td>\n",
              "    </tr>\n",
              "    <tr>\n",
              "      <th>1</th>\n",
              "      <td>s008</td>\n",
              "      <td>5</td>\n",
              "      <td>female</td>\n",
              "      <td>163</td>\n",
              "      <td>79</td>\n",
              "      <td>Yun</td>\n",
              "      <td>84</td>\n",
              "      <td>84</td>\n",
              "      <td>-10.58</td>\n",
              "    </tr>\n",
              "    <tr>\n",
              "      <th>2</th>\n",
              "      <td>s011</td>\n",
              "      <td>5</td>\n",
              "      <td>female</td>\n",
              "      <td>163</td>\n",
              "      <td>72</td>\n",
              "      <td>Yun</td>\n",
              "      <td>91</td>\n",
              "      <td>91</td>\n",
              "      <td>-10.58</td>\n",
              "    </tr>\n",
              "    <tr>\n",
              "      <th>3</th>\n",
              "      <td>s019</td>\n",
              "      <td>5</td>\n",
              "      <td>female</td>\n",
              "      <td>161</td>\n",
              "      <td>53</td>\n",
              "      <td>Yun</td>\n",
              "      <td>108</td>\n",
              "      <td>108</td>\n",
              "      <td>-12.58</td>\n",
              "    </tr>\n",
              "    <tr>\n",
              "      <th>4</th>\n",
              "      <td>s037</td>\n",
              "      <td>5</td>\n",
              "      <td>female</td>\n",
              "      <td>184</td>\n",
              "      <td>79</td>\n",
              "      <td>Yun</td>\n",
              "      <td>105</td>\n",
              "      <td>105</td>\n",
              "      <td>10.42</td>\n",
              "    </tr>\n",
              "    <tr>\n",
              "      <th>...</th>\n",
              "      <td>...</td>\n",
              "      <td>...</td>\n",
              "      <td>...</td>\n",
              "      <td>...</td>\n",
              "      <td>...</td>\n",
              "      <td>...</td>\n",
              "      <td>...</td>\n",
              "      <td>...</td>\n",
              "      <td>...</td>\n",
              "    </tr>\n",
              "    <tr>\n",
              "      <th>95</th>\n",
              "      <td>s089</td>\n",
              "      <td>3</td>\n",
              "      <td>male</td>\n",
              "      <td>164</td>\n",
              "      <td>79</td>\n",
              "      <td>Park</td>\n",
              "      <td>85</td>\n",
              "      <td>85</td>\n",
              "      <td>-12.46</td>\n",
              "    </tr>\n",
              "    <tr>\n",
              "      <th>96</th>\n",
              "      <td>s092</td>\n",
              "      <td>3</td>\n",
              "      <td>male</td>\n",
              "      <td>185</td>\n",
              "      <td>66</td>\n",
              "      <td>Park</td>\n",
              "      <td>119</td>\n",
              "      <td>119</td>\n",
              "      <td>8.54</td>\n",
              "    </tr>\n",
              "    <tr>\n",
              "      <th>97</th>\n",
              "      <td>s093</td>\n",
              "      <td>3</td>\n",
              "      <td>male</td>\n",
              "      <td>166</td>\n",
              "      <td>53</td>\n",
              "      <td>Park</td>\n",
              "      <td>113</td>\n",
              "      <td>113</td>\n",
              "      <td>-10.46</td>\n",
              "    </tr>\n",
              "    <tr>\n",
              "      <th>98</th>\n",
              "      <td>s097</td>\n",
              "      <td>3</td>\n",
              "      <td>male</td>\n",
              "      <td>184</td>\n",
              "      <td>70</td>\n",
              "      <td>Park</td>\n",
              "      <td>114</td>\n",
              "      <td>114</td>\n",
              "      <td>7.54</td>\n",
              "    </tr>\n",
              "    <tr>\n",
              "      <th>99</th>\n",
              "      <td>s098</td>\n",
              "      <td>3</td>\n",
              "      <td>male</td>\n",
              "      <td>184</td>\n",
              "      <td>54</td>\n",
              "      <td>Park</td>\n",
              "      <td>130</td>\n",
              "      <td>130</td>\n",
              "      <td>7.54</td>\n",
              "    </tr>\n",
              "  </tbody>\n",
              "</table>\n",
              "<p>100 rows × 9 columns</p>\n",
              "</div>"
            ],
            "text/plain": [
              "   sname  noclass  gender  height  weight tname  ration  ratio  height_dev\n",
              "0   s000        5  female     186      59   Yun     127    127       12.42\n",
              "1   s008        5  female     163      79   Yun      84     84      -10.58\n",
              "2   s011        5  female     163      72   Yun      91     91      -10.58\n",
              "3   s019        5  female     161      53   Yun     108    108      -12.58\n",
              "4   s037        5  female     184      79   Yun     105    105       10.42\n",
              "..   ...      ...     ...     ...     ...   ...     ...    ...         ...\n",
              "95  s089        3    male     164      79  Park      85     85      -12.46\n",
              "96  s092        3    male     185      66  Park     119    119        8.54\n",
              "97  s093        3    male     166      53  Park     113    113      -10.46\n",
              "98  s097        3    male     184      70  Park     114    114        7.54\n",
              "99  s098        3    male     184      54  Park     130    130        7.54\n",
              "\n",
              "[100 rows x 9 columns]"
            ]
          },
          "metadata": {
            "tags": []
          },
          "execution_count": 38
        }
      ]
    },
    {
      "cell_type": "markdown",
      "metadata": {
        "id": "vGKCARSqMGZS"
      },
      "source": [
        "문제10\n",
        "height_dev 가 0보다 큰 여학생 수 및 남학생 수를 각각 ct_tall_female 및 ct_tall_male 변수에 저장하시오."
      ]
    },
    {
      "cell_type": "code",
      "metadata": {
        "colab": {
          "base_uri": "https://localhost:8080/"
        },
        "id": "ZemFSDfpMIJr",
        "outputId": "75f593b1-d8e3-4086-e54d-8b2ac360f7e9"
      },
      "source": [
        "ct_tall_female=np.sum((info['gender']=='female')&(info['height_dev']>0))\n",
        "ct_tall_male=np.sum((info['gender']=='male')&(info['height_dev']>0))\n",
        "ct_tall_female,ct_tall_male"
      ],
      "execution_count": 40,
      "outputs": [
        {
          "output_type": "execute_result",
          "data": {
            "text/plain": [
              "(25, 25)"
            ]
          },
          "metadata": {
            "tags": []
          },
          "execution_count": 40
        }
      ]
    }
  ]
}